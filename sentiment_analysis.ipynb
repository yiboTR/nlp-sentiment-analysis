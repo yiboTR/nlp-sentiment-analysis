{
 "cells": [
  {
   "cell_type": "code",
   "execution_count": 1,
   "id": "029cc86a-1600-4c75-8815-dbb2daa166f1",
   "metadata": {},
   "outputs": [
    {
     "name": "stdout",
     "output_type": "stream",
     "text": [
      "Türkçe duygu analizi modeli yükleniyor...\n"
     ]
    },
    {
     "data": {
      "application/vnd.jupyter.widget-view+json": {
       "model_id": "af5e718b035b4ebba9a2923378ce77f4",
       "version_major": 2,
       "version_minor": 0
      },
      "text/plain": [
       "config.json:   0%|          | 0.00/596 [00:00<?, ?B/s]"
      ]
     },
     "metadata": {},
     "output_type": "display_data"
    },
    {
     "name": "stderr",
     "output_type": "stream",
     "text": [
      "C:\\Users\\yldzy\\anaconda3\\Lib\\site-packages\\huggingface_hub\\file_download.py:143: UserWarning: `huggingface_hub` cache-system uses symlinks by default to efficiently store duplicated files but your machine does not support them in C:\\Users\\yldzy\\.cache\\huggingface\\hub\\models--savasy--bert-base-turkish-sentiment-cased. Caching files will still work but in a degraded version that might require more space on your disk. This warning can be disabled by setting the `HF_HUB_DISABLE_SYMLINKS_WARNING` environment variable. For more details, see https://huggingface.co/docs/huggingface_hub/how-to-cache#limitations.\n",
      "To support symlinks on Windows, you either need to activate Developer Mode or to run Python as an administrator. In order to activate developer mode, see this article: https://docs.microsoft.com/en-us/windows/apps/get-started/enable-your-device-for-development\n",
      "  warnings.warn(message)\n"
     ]
    },
    {
     "data": {
      "application/vnd.jupyter.widget-view+json": {
       "model_id": "c8e513cf74fc4607aa7c52eeee9f34a4",
       "version_major": 2,
       "version_minor": 0
      },
      "text/plain": [
       "model.safetensors:   0%|          | 0.00/442M [00:00<?, ?B/s]"
      ]
     },
     "metadata": {},
     "output_type": "display_data"
    },
    {
     "data": {
      "application/vnd.jupyter.widget-view+json": {
       "model_id": "90b339549efc4b08a268d8b6cac9f045",
       "version_major": 2,
       "version_minor": 0
      },
      "text/plain": [
       "tokenizer_config.json:   0%|          | 0.00/39.0 [00:00<?, ?B/s]"
      ]
     },
     "metadata": {},
     "output_type": "display_data"
    },
    {
     "data": {
      "application/vnd.jupyter.widget-view+json": {
       "model_id": "8abcd965ee51445bace5355f8598ec81",
       "version_major": 2,
       "version_minor": 0
      },
      "text/plain": [
       "vocab.txt: 0.00B [00:00, ?B/s]"
      ]
     },
     "metadata": {},
     "output_type": "display_data"
    },
    {
     "data": {
      "application/vnd.jupyter.widget-view+json": {
       "model_id": "b20d49b656954c6eb43ae917231a90da",
       "version_major": 2,
       "version_minor": 0
      },
      "text/plain": [
       "special_tokens_map.json:   0%|          | 0.00/112 [00:00<?, ?B/s]"
      ]
     },
     "metadata": {},
     "output_type": "display_data"
    },
    {
     "name": "stderr",
     "output_type": "stream",
     "text": [
      "Device set to use cuda:0\n"
     ]
    },
    {
     "name": "stdout",
     "output_type": "stream",
     "text": [
      "Model başarıyla yüklendi.\n",
      "\n",
      "--- Duygu Analizi Başlıyor ---\n",
      "\n",
      "Cümle: 'Bu filme bayıldım, kesinlikle harikaydı!'\n",
      "  -> Tahmin Edilen Duygu: POZİTİF 😊 (Skor: 0.99)\n",
      "\n",
      "Cümle: 'Hayatımda izlediğim en sıkıcı ve berbat filmdi.'\n",
      "  -> Tahmin Edilen Duygu: NEGATİF 😠 (Skor: 1.00)\n",
      "\n",
      "Cümle: 'Bu ürün fena değil, işimi gördü.'\n",
      "  -> Tahmin Edilen Duygu: POZİTİF 😊 (Skor: 0.94)\n",
      "\n",
      "Cümle: 'Kargo çok geç geldi ve ürün hasarlıydı.'\n",
      "  -> Tahmin Edilen Duygu: NEGATİF 😠 (Skor: 1.00)\n",
      "\n",
      "Cümle: 'Yarın hava güneşli olacakmış, çok mutluyum.'\n",
      "  -> Tahmin Edilen Duygu: POZİTİF 😊 (Skor: 0.94)\n",
      "\n",
      "--- Analiz Tamamlandı ---\n"
     ]
    }
   ],
   "source": [
    "# 1. Gerekli kütüphaneyi import et\n",
    "from transformers import pipeline\n",
    "\n",
    "# 2. Duygu analizi için hazır pipeline'ı yükle\n",
    "# Bu, modeli ve gerekli tüm ön işlemleri bizim için otomatik olarak indirir ve kurar.\n",
    "# İlk çalıştırmada modelin indirilmesi birkaç dakika sürebilir.\n",
    "print(\"Türkçe duygu analizi modeli yükleniyor...\")\n",
    "sentiment_pipeline = pipeline(\n",
    "    \"sentiment-analysis\", \n",
    "    model=\"savasy/bert-base-turkish-sentiment-cased\"\n",
    ")\n",
    "print(\"Model başarıyla yüklendi.\")\n",
    "\n",
    "# 3. Analiz edilecek cümleleri bir listede topla\n",
    "cumleler = [\n",
    "    \"Bu filme bayıldım, kesinlikle harikaydı!\",\n",
    "    \"Hayatımda izlediğim en sıkıcı ve berbat filmdi.\",\n",
    "    \"Bu ürün fena değil, işimi gördü.\",\n",
    "    \"Kargo çok geç geldi ve ürün hasarlıydı.\",\n",
    "    \"Yarın hava güneşli olacakmış, çok mutluyum.\"\n",
    "]\n",
    "\n",
    "print(\"\\n--- Duygu Analizi Başlıyor ---\")\n",
    "\n",
    "# 4. Her bir cümleyi analiz et ve sonucu yazdır\n",
    "results = sentiment_pipeline(cumleler)\n",
    "\n",
    "for cumle, result in zip(cumleler, results):\n",
    "    label = result['label']\n",
    "    score = result['score']\n",
    "    \n",
    "    # Label'ları daha anlaşılır hale getirelim\n",
    "    if label == \"positive\":\n",
    "        duygu = \"POZİTİF 😊\"\n",
    "    else:\n",
    "        duygu = \"NEGATİF 😠\"\n",
    "        \n",
    "    print(f\"\\nCümle: '{cumle}'\")\n",
    "    print(f\"  -> Tahmin Edilen Duygu: {duygu} (Skor: {score:.2f})\")\n",
    "\n",
    "print(\"\\n--- Analiz Tamamlandı ---\")"
   ]
  },
  {
   "cell_type": "code",
   "execution_count": null,
   "id": "37976e45-e7d3-4a4e-ae4c-10196ff4733f",
   "metadata": {},
   "outputs": [],
   "source": []
  }
 ],
 "metadata": {
  "kernelspec": {
   "display_name": "Python [conda env:base] *",
   "language": "python",
   "name": "conda-base-py"
  },
  "language_info": {
   "codemirror_mode": {
    "name": "ipython",
    "version": 3
   },
   "file_extension": ".py",
   "mimetype": "text/x-python",
   "name": "python",
   "nbconvert_exporter": "python",
   "pygments_lexer": "ipython3",
   "version": "3.12.7"
  }
 },
 "nbformat": 4,
 "nbformat_minor": 5
}
